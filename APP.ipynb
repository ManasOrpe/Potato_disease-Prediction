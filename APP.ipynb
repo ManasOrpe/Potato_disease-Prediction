{
 "cells": [
  {
   "cell_type": "code",
   "execution_count": 2,
   "metadata": {},
   "outputs": [
    {
     "name": "stderr",
     "output_type": "stream",
     "text": [
      "2024-12-17 21:56:05.197 Thread 'MainThread': missing ScriptRunContext! This warning can be ignored when running in bare mode.\n",
      "2024-12-17 21:56:05.198 Thread 'MainThread': missing ScriptRunContext! This warning can be ignored when running in bare mode.\n",
      "2024-12-17 21:56:05.199 Thread 'MainThread': missing ScriptRunContext! This warning can be ignored when running in bare mode.\n",
      "2024-12-17 21:56:05.199 Thread 'MainThread': missing ScriptRunContext! This warning can be ignored when running in bare mode.\n",
      "2024-12-17 21:56:05.200 Thread 'MainThread': missing ScriptRunContext! This warning can be ignored when running in bare mode.\n"
     ]
    }
   ],
   "source": [
    "import streamlit as st\n",
    "import base64\n",
    "\n",
    "def streamlit_config():\n",
    "    # page configuration\n",
    "    st.set_page_config(page_title='Manas is Great', layout='centered')\n",
    "\n",
    "    # Set background image using CSS\n",
    "    page_background_image = \"\"\"\n",
    "    <style>\n",
    "    body {\n",
    "        background-image: url(\"file:///D:/Potato%20repo/Data/PlantVillage/00d8f10f-5038-4e0f-bb58-0b885ddc0cc5___RS_Early.B%208722.JPG\");\n",
    "        background-size: cover; /* Make the image cover the entire background */\n",
    "        background-position: center center; /* Center the image */\n",
    "        background-repeat: no-repeat; /* Prevent image repetition */\n",
    "        height: 100vh; /* Make sure it covers the whole screen */\n",
    "        margin: 0;\n",
    "    }\n",
    "    .text {\n",
    "        position: absolute;\n",
    "        top: 50%;\n",
    "        left: 50%;\n",
    "        transform: translate(-50%, -50%);\n",
    "        font-size: 50px;\n",
    "        font-weight: bold;\n",
    "        color: red;\n",
    "        text-align: center;\n",
    "    }\n",
    "    </style>\n",
    "    \"\"\"\n",
    "    st.markdown(page_background_image, unsafe_allow_html=True)\n",
    "\n",
    "    # Text in the center\n",
    "    st.markdown('<div class=\"text\">Manas is great</div>', unsafe_allow_html=True)\n",
    "\n",
    "# Streamlit Configuration Setup\n",
    "streamlit_config()\n"
   ]
  }
 ],
 "metadata": {
  "kernelspec": {
   "display_name": "Python 3",
   "language": "python",
   "name": "python3"
  },
  "language_info": {
   "codemirror_mode": {
    "name": "ipython",
    "version": 3
   },
   "file_extension": ".py",
   "mimetype": "text/x-python",
   "name": "python",
   "nbconvert_exporter": "python",
   "pygments_lexer": "ipython3",
   "version": "3.11.5"
  }
 },
 "nbformat": 4,
 "nbformat_minor": 2
}
